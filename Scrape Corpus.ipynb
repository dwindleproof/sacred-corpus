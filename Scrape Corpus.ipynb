{
 "cells": [
  {
   "cell_type": "code",
   "execution_count": 49,
   "metadata": {},
   "outputs": [],
   "source": [
    "import re\n",
    "import requests\n",
    "from bs4 import BeautifulSoup\n",
    "\n",
    "from lxml import etree"
   ]
  },
  {
   "cell_type": "code",
   "execution_count": 86,
   "metadata": {},
   "outputs": [],
   "source": [
    "# URLs components\n",
    "base_url = 'https://www.churchofjesuschrist.org'\n",
    "\n",
    "standard_works_base_url = base_url + '/study/scriptures'\n",
    "\n",
    "standard_works = {\n",
    "    '/ot':           'Old Testament',\n",
    "    '/nt':           'New Testament',\n",
    "    '/bofm':         'Book of Mormon',\n",
    "    '/dc-testament': 'Doctrine and Covenants',\n",
    "    '/pgp':          'Pearl of Great Price'\n",
    "}\n"
   ]
  },
  {
   "cell_type": "code",
   "execution_count": 97,
   "metadata": {},
   "outputs": [],
   "source": [
    "# Utility scraping methods\n",
    "def get(url):\n",
    "    page = requests.get(url)\n",
    "    if page.status_code == 200:\n",
    "        return BeautifulSoup(page.text, 'html.parser')\n",
    "    \n",
    "    raise ValueError(f\"Failed to get {url}\")\n",
    "    \n",
    "def get_first_from_standard_work(url):\n",
    "    'Obtains the first content url for a given standard work URL'\n",
    "    return base_url + get(\n",
    "        url\n",
    "    ).find(\n",
    "        'nav'\n",
    "    ).find(\n",
    "        'ul'\n",
    "    ).find_all(\n",
    "        'li'\n",
    "    )[1].find(\n",
    "        'a'\n",
    "    )['href'].split('?')[0]\n",
    "    \n",
    "\n",
    "# Finds the next link on page from https://www.churchofjesuschrist.org/study/scriptures/\n",
    "next_url = lambda page: page.find('span', re.compile('nextLink')).find('a')['href'].split('?')[0]\n",
    "\n",
    "def get_all_standard_work_pages(url):\n",
    "    'Gets all standard work chapter URLs as a generator'\n",
    "        \n",
    "    while url:\n",
    "        yield url\n",
    "        page = get(url)\n",
    "\n",
    "        if next_url(page):\n",
    "            url = base_url + next_url(page)\n",
    "            print(url)\n",
    "        else:\n",
    "            url = None\n"
   ]
  },
  {
   "cell_type": "code",
   "execution_count": 98,
   "metadata": {},
   "outputs": [
    {
     "data": {
      "text/plain": [
       "'https://www.churchofjesuschrist.org/study/scriptures/ot/title-page'"
      ]
     },
     "execution_count": 98,
     "metadata": {},
     "output_type": "execute_result"
    }
   ],
   "source": [
    "get_first_from_standard_work(\n",
    "    standard_works_base_url+'/ot'\n",
    ")"
   ]
  },
  {
   "cell_type": "code",
   "execution_count": null,
   "metadata": {},
   "outputs": [
    {
     "name": "stdout",
     "output_type": "stream",
     "text": [
      "https://www.churchofjesuschrist.org/study/scriptures/ot/dedication\n",
      "https://www.churchofjesuschrist.org/study/scriptures/ot/gen/1\n",
      "https://www.churchofjesuschrist.org/study/scriptures/ot/gen/2\n",
      "https://www.churchofjesuschrist.org/study/scriptures/ot/gen/3\n",
      "https://www.churchofjesuschrist.org/study/scriptures/ot/gen/4\n",
      "https://www.churchofjesuschrist.org/study/scriptures/ot/gen/5\n",
      "https://www.churchofjesuschrist.org/study/scriptures/ot/gen/6\n",
      "https://www.churchofjesuschrist.org/study/scriptures/ot/gen/7\n",
      "https://www.churchofjesuschrist.org/study/scriptures/ot/gen/8\n",
      "https://www.churchofjesuschrist.org/study/scriptures/ot/gen/9\n",
      "https://www.churchofjesuschrist.org/study/scriptures/ot/gen/10\n",
      "https://www.churchofjesuschrist.org/study/scriptures/ot/gen/11\n",
      "https://www.churchofjesuschrist.org/study/scriptures/ot/gen/12\n",
      "https://www.churchofjesuschrist.org/study/scriptures/ot/gen/13\n",
      "https://www.churchofjesuschrist.org/study/scriptures/ot/gen/14\n",
      "https://www.churchofjesuschrist.org/study/scriptures/ot/gen/15\n",
      "https://www.churchofjesuschrist.org/study/scriptures/ot/gen/16\n",
      "https://www.churchofjesuschrist.org/study/scriptures/ot/gen/17\n",
      "https://www.churchofjesuschrist.org/study/scriptures/ot/gen/18\n",
      "https://www.churchofjesuschrist.org/study/scriptures/ot/gen/19\n",
      "https://www.churchofjesuschrist.org/study/scriptures/ot/gen/20\n",
      "https://www.churchofjesuschrist.org/study/scriptures/ot/gen/21\n",
      "https://www.churchofjesuschrist.org/study/scriptures/ot/gen/22\n",
      "https://www.churchofjesuschrist.org/study/scriptures/ot/gen/23\n",
      "https://www.churchofjesuschrist.org/study/scriptures/ot/gen/24\n",
      "https://www.churchofjesuschrist.org/study/scriptures/ot/gen/25\n",
      "https://www.churchofjesuschrist.org/study/scriptures/ot/gen/26\n",
      "https://www.churchofjesuschrist.org/study/scriptures/ot/gen/27\n",
      "https://www.churchofjesuschrist.org/study/scriptures/ot/gen/28\n",
      "https://www.churchofjesuschrist.org/study/scriptures/ot/gen/29\n",
      "https://www.churchofjesuschrist.org/study/scriptures/ot/gen/30\n",
      "https://www.churchofjesuschrist.org/study/scriptures/ot/gen/31\n",
      "https://www.churchofjesuschrist.org/study/scriptures/ot/gen/32\n",
      "https://www.churchofjesuschrist.org/study/scriptures/ot/gen/33\n",
      "https://www.churchofjesuschrist.org/study/scriptures/ot/gen/34\n",
      "https://www.churchofjesuschrist.org/study/scriptures/ot/gen/35\n",
      "https://www.churchofjesuschrist.org/study/scriptures/ot/gen/36\n",
      "https://www.churchofjesuschrist.org/study/scriptures/ot/gen/37\n",
      "https://www.churchofjesuschrist.org/study/scriptures/ot/gen/38\n",
      "https://www.churchofjesuschrist.org/study/scriptures/ot/gen/39\n",
      "https://www.churchofjesuschrist.org/study/scriptures/ot/gen/40\n",
      "https://www.churchofjesuschrist.org/study/scriptures/ot/gen/41\n",
      "https://www.churchofjesuschrist.org/study/scriptures/ot/gen/42\n",
      "https://www.churchofjesuschrist.org/study/scriptures/ot/gen/43\n",
      "https://www.churchofjesuschrist.org/study/scriptures/ot/gen/44\n",
      "https://www.churchofjesuschrist.org/study/scriptures/ot/gen/45\n",
      "https://www.churchofjesuschrist.org/study/scriptures/ot/gen/46\n",
      "https://www.churchofjesuschrist.org/study/scriptures/ot/gen/47\n",
      "https://www.churchofjesuschrist.org/study/scriptures/ot/gen/48\n",
      "https://www.churchofjesuschrist.org/study/scriptures/ot/gen/49\n",
      "https://www.churchofjesuschrist.org/study/scriptures/ot/gen/50\n",
      "https://www.churchofjesuschrist.org/study/scriptures/ot/ex/1\n",
      "https://www.churchofjesuschrist.org/study/scriptures/ot/ex/2\n",
      "https://www.churchofjesuschrist.org/study/scriptures/ot/ex/3\n",
      "https://www.churchofjesuschrist.org/study/scriptures/ot/ex/4\n",
      "https://www.churchofjesuschrist.org/study/scriptures/ot/ex/5\n",
      "https://www.churchofjesuschrist.org/study/scriptures/ot/ex/6\n",
      "https://www.churchofjesuschrist.org/study/scriptures/ot/ex/7\n",
      "https://www.churchofjesuschrist.org/study/scriptures/ot/ex/8\n",
      "https://www.churchofjesuschrist.org/study/scriptures/ot/ex/9\n",
      "https://www.churchofjesuschrist.org/study/scriptures/ot/ex/10\n",
      "https://www.churchofjesuschrist.org/study/scriptures/ot/ex/11\n",
      "https://www.churchofjesuschrist.org/study/scriptures/ot/ex/12\n",
      "https://www.churchofjesuschrist.org/study/scriptures/ot/ex/13\n",
      "https://www.churchofjesuschrist.org/study/scriptures/ot/ex/14\n",
      "https://www.churchofjesuschrist.org/study/scriptures/ot/ex/15\n",
      "https://www.churchofjesuschrist.org/study/scriptures/ot/ex/16\n",
      "https://www.churchofjesuschrist.org/study/scriptures/ot/ex/17\n",
      "https://www.churchofjesuschrist.org/study/scriptures/ot/ex/18\n",
      "https://www.churchofjesuschrist.org/study/scriptures/ot/ex/19\n",
      "https://www.churchofjesuschrist.org/study/scriptures/ot/ex/20\n",
      "https://www.churchofjesuschrist.org/study/scriptures/ot/ex/21\n",
      "https://www.churchofjesuschrist.org/study/scriptures/ot/ex/22\n",
      "https://www.churchofjesuschrist.org/study/scriptures/ot/ex/23\n",
      "https://www.churchofjesuschrist.org/study/scriptures/ot/ex/24\n",
      "https://www.churchofjesuschrist.org/study/scriptures/ot/ex/25\n",
      "https://www.churchofjesuschrist.org/study/scriptures/ot/ex/26\n",
      "https://www.churchofjesuschrist.org/study/scriptures/ot/ex/27\n",
      "https://www.churchofjesuschrist.org/study/scriptures/ot/ex/28\n",
      "https://www.churchofjesuschrist.org/study/scriptures/ot/ex/29\n",
      "https://www.churchofjesuschrist.org/study/scriptures/ot/ex/30\n",
      "https://www.churchofjesuschrist.org/study/scriptures/ot/ex/31\n",
      "https://www.churchofjesuschrist.org/study/scriptures/ot/ex/32\n",
      "https://www.churchofjesuschrist.org/study/scriptures/ot/ex/33\n",
      "https://www.churchofjesuschrist.org/study/scriptures/ot/ex/34\n",
      "https://www.churchofjesuschrist.org/study/scriptures/ot/ex/35\n",
      "https://www.churchofjesuschrist.org/study/scriptures/ot/ex/36\n",
      "https://www.churchofjesuschrist.org/study/scriptures/ot/ex/37\n",
      "https://www.churchofjesuschrist.org/study/scriptures/ot/ex/38\n",
      "https://www.churchofjesuschrist.org/study/scriptures/ot/ex/39\n",
      "https://www.churchofjesuschrist.org/study/scriptures/ot/ex/40\n",
      "https://www.churchofjesuschrist.org/study/scriptures/ot/lev/1\n",
      "https://www.churchofjesuschrist.org/study/scriptures/ot/lev/2\n",
      "https://www.churchofjesuschrist.org/study/scriptures/ot/lev/3\n",
      "https://www.churchofjesuschrist.org/study/scriptures/ot/lev/4\n",
      "https://www.churchofjesuschrist.org/study/scriptures/ot/lev/5\n",
      "https://www.churchofjesuschrist.org/study/scriptures/ot/lev/6\n",
      "https://www.churchofjesuschrist.org/study/scriptures/ot/lev/7\n",
      "https://www.churchofjesuschrist.org/study/scriptures/ot/lev/8\n",
      "https://www.churchofjesuschrist.org/study/scriptures/ot/lev/9\n",
      "https://www.churchofjesuschrist.org/study/scriptures/ot/lev/10\n",
      "https://www.churchofjesuschrist.org/study/scriptures/ot/lev/11\n",
      "https://www.churchofjesuschrist.org/study/scriptures/ot/lev/12\n",
      "https://www.churchofjesuschrist.org/study/scriptures/ot/lev/13\n",
      "https://www.churchofjesuschrist.org/study/scriptures/ot/lev/14\n",
      "https://www.churchofjesuschrist.org/study/scriptures/ot/lev/15\n",
      "https://www.churchofjesuschrist.org/study/scriptures/ot/lev/16\n",
      "https://www.churchofjesuschrist.org/study/scriptures/ot/lev/17\n",
      "https://www.churchofjesuschrist.org/study/scriptures/ot/lev/18\n",
      "https://www.churchofjesuschrist.org/study/scriptures/ot/lev/19\n",
      "https://www.churchofjesuschrist.org/study/scriptures/ot/lev/20\n",
      "https://www.churchofjesuschrist.org/study/scriptures/ot/lev/21\n",
      "https://www.churchofjesuschrist.org/study/scriptures/ot/lev/22\n",
      "https://www.churchofjesuschrist.org/study/scriptures/ot/lev/23\n",
      "https://www.churchofjesuschrist.org/study/scriptures/ot/lev/24\n",
      "https://www.churchofjesuschrist.org/study/scriptures/ot/lev/25\n",
      "https://www.churchofjesuschrist.org/study/scriptures/ot/lev/26\n",
      "https://www.churchofjesuschrist.org/study/scriptures/ot/lev/27\n",
      "https://www.churchofjesuschrist.org/study/scriptures/ot/num/1\n",
      "https://www.churchofjesuschrist.org/study/scriptures/ot/num/2\n",
      "https://www.churchofjesuschrist.org/study/scriptures/ot/num/3\n",
      "https://www.churchofjesuschrist.org/study/scriptures/ot/num/4\n"
     ]
    }
   ],
   "source": [
    "list(\n",
    "    get_all_standard_work_pages(\n",
    "        get_first_from_standard_work(\n",
    "            standard_works_base_url+'/ot'\n",
    "        )\n",
    "    )\n",
    ")"
   ]
  },
  {
   "cell_type": "code",
   "execution_count": 71,
   "metadata": {},
   "outputs": [
    {
     "data": {
      "text/plain": [
       "'/study/scriptures/ot/dedication'"
      ]
     },
     "execution_count": 71,
     "metadata": {},
     "output_type": "execute_result"
    }
   ],
   "source": [
    "get(base_url+'/study/scriptures/ot/title-page')"
   ]
  },
  {
   "cell_type": "code",
   "execution_count": 50,
   "metadata": {
    "scrolled": true
   },
   "outputs": [
    {
     "name": "stdout",
     "output_type": "stream",
     "text": [
      "['/study/scriptures/nt/title-page', '/study/scriptures/nt/matt/1', '/study/scriptures/nt/mark/1', '/study/scriptures/nt/luke/1', '/study/scriptures/nt/john/1', '/study/scriptures/nt/acts/1', '/study/scriptures/nt/rom/1', '/study/scriptures/nt/1-cor/1', '/study/scriptures/nt/2-cor/1', '/study/scriptures/nt/gal/1', '/study/scriptures/nt/eph/1', '/study/scriptures/nt/philip/1', '/study/scriptures/nt/col/1', '/study/scriptures/nt/1-thes/1', '/study/scriptures/nt/2-thes/1', '/study/scriptures/nt/1-tim/1', '/study/scriptures/nt/2-tim/1', '/study/scriptures/nt/titus/1', '/study/scriptures/nt/philem/1', '/study/scriptures/nt/heb/1', '/study/scriptures/nt/james/1', '/study/scriptures/nt/1-pet/1', '/study/scriptures/nt/2-pet/1', '/study/scriptures/nt/1-jn/1', '/study/scriptures/nt/2-jn/1', '/study/scriptures/nt/3-jn/1', '/study/scriptures/nt/jude/1', '/study/scriptures/nt/rev/1']\n"
     ]
    }
   ],
   "source": [
    "\n",
    "print(\n",
    "    [\n",
    "        a['href'].split('?')[0] for a in get(\n",
    "            standard_works_base+'nt'\n",
    "        ).find('ul', 'doc-map').find_all('a', href=True)\n",
    "    ]\n",
    ")"
   ]
  },
  {
   "cell_type": "code",
   "execution_count": 34,
   "metadata": {},
   "outputs": [],
   "source": [
    "t = x[0]"
   ]
  },
  {
   "cell_type": "code",
   "execution_count": 40,
   "metadata": {},
   "outputs": [
    {
     "data": {
      "text/plain": [
       "'https://www.churchofjesuschrist.org//study/scriptures/ot/title-page'"
      ]
     },
     "execution_count": 40,
     "metadata": {},
     "output_type": "execute_result"
    }
   ],
   "source": [
    "base_url + t['href'].split('?')[0]"
   ]
  },
  {
   "cell_type": "code",
   "execution_count": null,
   "metadata": {},
   "outputs": [],
   "source": [
    "# create XML \n",
    "root = etree.Element('root')\n",
    "root.append(etree.Element('child'))\n",
    "# another child with text\n",
    "child = etree.Element('child')\n",
    "child.text = 'some text'\n",
    "root.append(child)\n",
    "\n",
    "# pretty string\n",
    "s = etree.tostring(root, pretty_print=True)\n",
    "print s"
   ]
  }
 ],
 "metadata": {
  "kernelspec": {
   "display_name": "Python 3",
   "language": "python",
   "name": "python3"
  },
  "language_info": {
   "codemirror_mode": {
    "name": "ipython",
    "version": 3
   },
   "file_extension": ".py",
   "mimetype": "text/x-python",
   "name": "python",
   "nbconvert_exporter": "python",
   "pygments_lexer": "ipython3",
   "version": "3.8.5"
  }
 },
 "nbformat": 4,
 "nbformat_minor": 4
}
