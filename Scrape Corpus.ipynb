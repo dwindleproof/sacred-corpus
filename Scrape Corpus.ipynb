{
 "cells": [
  {
   "cell_type": "code",
   "execution_count": 1,
   "metadata": {},
   "outputs": [],
   "source": [
    "import re\n",
    "from multiprocessing import Pool\n",
    "\n",
    "from bs4 import BeautifulSoup\n",
    "from bs4.element import NavigableString as n_str\n",
    "\n",
    "from lxml import etree\n",
    "\n",
    "from scraping import standard_works\n",
    "\n",
    "from text_processing import flatten\n"
   ]
  },
  {
   "cell_type": "code",
   "execution_count": 4,
   "metadata": {},
   "outputs": [
    {
     "name": "stdout",
     "output_type": "stream",
     "text": [
      "For processor size 7 the time was -102.7957398891449\n",
      "For processor size 8 the time was -107.52112603187561\n",
      "For processor size 9 the time was -100.03668522834778\n",
      "For processor size 10 the time was -101.04830384254456\n",
      "For processor size 11 the time was -103.03827619552612\n"
     ]
    }
   ],
   "source": [
    "from time import time\n",
    "for i in range(7, 12):\n",
    "    start = time()\n",
    "    standard_works(size=i)\n",
    "    print(f\"For processor size {i} the time was {start - time()}\")"
   ]
  },
  {
   "cell_type": "code",
   "execution_count": 3,
   "metadata": {
    "scrolled": true
   },
   "outputs": [
    {
     "name": "stdout",
     "output_type": "stream",
     "text": [
      "CPU times: user 580 ms, sys: 358 ms, total: 938 ms\n",
      "Wall time: 1min 27s\n"
     ]
    }
   ],
   "source": [
    "%%time\n",
    "\n",
    "corpus = standard_works()"
   ]
  },
  {
   "cell_type": "code",
   "execution_count": 4,
   "metadata": {},
   "outputs": [
    {
     "name": "stdout",
     "output_type": "stream",
     "text": [
      "No errors detected.\n"
     ]
    }
   ],
   "source": [
    "errors = corpus.xpath('//collection[@name=\"failures\"]')\n",
    "\n",
    "if not errors:\n",
    "    print(\"No errors detected.\")\n",
    "    \n",
    "else:\n",
    "\n",
    "    failures = etree.fromstring(etree.tostring(errors[0]))\n",
    "\n",
    "    failures = failures.xpath('//chapter')\n",
    "\n",
    "    print(f\"The number of failures was: {len(failures)}\")\n",
    "    print(etree.tostring(failures[0]))"
   ]
  },
  {
   "cell_type": "code",
   "execution_count": 5,
   "metadata": {},
   "outputs": [
    {
     "name": "stdout",
     "output_type": "stream",
     "text": [
      "The shortest chapter is (173, 'https://www.churchofjesuschrist.org/study/scriptures/ot/ps/117?lang=eng')\n"
     ]
    }
   ],
   "source": [
    "# Examines lengths of the available chapters\n",
    "\n",
    "lengths = sorted(\n",
    "    [\n",
    "        (len(flatten(c)), c.attrib['source']) \n",
    "        for c in corpus.xpath('//chapter')\n",
    "    ],\n",
    "    key=lambda x: x[0]\n",
    ")\n",
    "\n",
    "print(\n",
    "    f\"The shortest chapter is {lengths[0]}\"\n",
    ")"
   ]
  },
  {
   "cell_type": "code",
   "execution_count": 7,
   "metadata": {},
   "outputs": [
    {
     "name": "stdout",
     "output_type": "stream",
     "text": [
      "Number of nonascii chapters is: 0\n"
     ]
    }
   ],
   "source": [
    "nonascii = [\n",
    "    c\n",
    "    for c in corpus.xpath('//chapter')\n",
    "    if not flatten(c).isascii()\n",
    "]\n",
    "\n",
    "print(f\"Number of nonascii chapters is: {len(nonascii)}\")\n",
    "\n",
    "if nonascii:\n",
    "    print(etree.tostring(nonascii[0]))"
   ]
  },
  {
   "cell_type": "code",
   "execution_count": 9,
   "metadata": {},
   "outputs": [
    {
     "name": "stdout",
     "output_type": "stream",
     "text": [
      "b'<chapter name=\"/ot/title-page?lang=eng\" source=\"https://www.churchofjesuschrist.org/study/scriptures/ot/title-page?lang=eng\"><verse number=\"1\">Translated out of the Original Tongues: and with the Former Translations Diligently Compared and Revised, by His Majesty\\'s Special Command</verse><verse number=\"2\">Authorized King James Version</verse><verse number=\"3\">With Explanatory Notes and Cross References to the Standard Works of The Church of Jesus Christ of Latter-day Saints</verse><verse number=\"4\">Published by The Church of Jesus Christ of Latter-day Saints</verse><verse number=\"5\">Salt Lake City, Utah, USA</verse><verse number=\"6\">(C) 2013 by Intellectual Reserve, Inc. All rights reserved. Source: 2015/03/24</verse></chapter>'\n"
     ]
    },
    {
     "data": {
      "text/plain": [
       "'(C) 2013 by Intellectual Reserve, Inc. All rights reserved. Source: 2015/03/24'"
      ]
     },
     "execution_count": 9,
     "metadata": {},
     "output_type": "execute_result"
    }
   ],
   "source": [
    "# Examination of a specific chapter\n",
    "url = \"https://www.churchofjesuschrist.org/study/scriptures/ot/title-page?lang=eng\"\n",
    "\n",
    "chapter = process_chapter(\n",
    "    get(url),\n",
    "    url,\n",
    "    url.split('scriptures')[1].split('/'),\n",
    ")[0]\n",
    "\n",
    "print(chapter)\n",
    "\n",
    "chapter = etree.fromstring(chapter)\n",
    "\n",
    "verse = 6\n",
    "verse = chapter.xpath(f'//verse[@number={verse}]')[0]\n",
    "verse.text"
   ]
  }
 ],
 "metadata": {
  "kernelspec": {
   "display_name": "Python 3",
   "language": "python",
   "name": "python3"
  },
  "language_info": {
   "codemirror_mode": {
    "name": "ipython",
    "version": 3
   },
   "file_extension": ".py",
   "mimetype": "text/x-python",
   "name": "python",
   "nbconvert_exporter": "python",
   "pygments_lexer": "ipython3",
   "version": "3.8.5"
  }
 },
 "nbformat": 4,
 "nbformat_minor": 4
}
